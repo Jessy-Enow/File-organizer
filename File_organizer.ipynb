{
 "cells": [
  {
   "cell_type": "code",
   "execution_count": 11,
   "metadata": {},
   "outputs": [],
   "source": [
    "import os\n",
    "import shutil\n",
    "\n",
    "#prompt user for the path to be organized\n",
    "path = input(\"Enter Path: \")\n",
    "\n",
    "\n",
    "\n",
    "#Retrieve a list of files in the specified path\n",
    "def get_files(path):\n",
    "    return os.listdir(path)\n",
    "\n",
    "\n",
    "#Split filename and extention\n",
    "def split_file(file):\n",
    "    return os.path.splitext(file)\n",
    "\n",
    "\n",
    "#Remove the leading dot from extension\n",
    "def remove_dot(extension):\n",
    "    return extension[1:]\n",
    "\n",
    "\n",
    "#Create the destination directory path base on the input path and extension\n",
    "def create_destination(path, extension):\n",
    "    destination = path+'/'+extension\n",
    "\n",
    "    if not os.path.exists(destination):\n",
    "        os.makedirs(destination)\n",
    "\n",
    "    return destination\n",
    "\n",
    "\n",
    "#Move file from the source to the destination\n",
    "def move_file(src, dst):\n",
    "    shutil.move(src, dst)\n",
    "\n",
    "#main function to organize files\n",
    "def organize_files(path):\n",
    "    files = get_files(path)\n",
    "\n",
    "    for file in files:\n",
    "        filename, extension = split_file(file)\n",
    "        extension = remove_dot(extension)\n",
    "        destination = create_destination(path, extension)\n",
    "        move_file(path+'/'+file, destination+'/'+file)\n",
    "\n",
    "\n",
    "organize_files(path)\n",
    "\n",
    "        "
   ]
  }
 ],
 "metadata": {
  "kernelspec": {
   "display_name": "Python 3",
   "language": "python",
   "name": "python3"
  },
  "language_info": {
   "codemirror_mode": {
    "name": "ipython",
    "version": 3
   },
   "file_extension": ".py",
   "mimetype": "text/x-python",
   "name": "python",
   "nbconvert_exporter": "python",
   "pygments_lexer": "ipython3",
   "version": "3.12.2"
  }
 },
 "nbformat": 4,
 "nbformat_minor": 2
}
